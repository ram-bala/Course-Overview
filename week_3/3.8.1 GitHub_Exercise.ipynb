{
 "cells": [
  {
   "cell_type": "markdown",
   "metadata": {},
   "source": [
    "## Practicing the Course Workflow With Git and GitHub\n",
    "\n",
    "1.  This is a simple exercise to show you the process of working with Git and GitHub. The code below defines a string, groceries. Click in the code cell to edit it, then extend the code to split the string into a list of strings, each containing one item. Create a new list that has the same elements but in reverse order. Finally, print the new list."
   ]
  },
  {
   "cell_type": "code",
   "execution_count": 9,
   "metadata": {},
   "outputs": [
    {
     "name": "stdout",
     "output_type": "stream",
     "text": [
      "split grcocery list ['apples', 'corn', 'potatoes', 'yams', 'parsley', 'raddish', 'onions', 'beef']\n",
      "in reverse: ['beef', 'onions', 'raddish', 'parsley', 'yams', 'potatoes', 'corn', 'apples']\n",
      "apples corn potatoes yams parsley raddish onions beef\n"
     ]
    }
   ],
   "source": [
    "groceries = \"apples corn potatoes yams parsley raddish onions beef\"\n",
    "g_list = groceries.split(\" \")\n",
    "print(\"split grcocery list\", g_list)\n",
    "reverse_glist = g_list.copy()\n",
    "reverse_glist.reverse()\n",
    "\n",
    "print(\"in reverse:\", reverse_glist)\n",
    "print(groceries)"
   ]
  },
  {
   "cell_type": "code",
   "execution_count": null,
   "metadata": {
    "collapsed": true
   },
   "outputs": [],
   "source": []
  }
 ],
 "metadata": {
  "kernelspec": {
   "display_name": "Python 3",
   "language": "python",
   "name": "python3"
  },
  "language_info": {
   "codemirror_mode": {
    "name": "ipython",
    "version": 3
   },
   "file_extension": ".py",
   "mimetype": "text/x-python",
   "name": "python",
   "nbconvert_exporter": "python",
   "pygments_lexer": "ipython3",
   "version": "3.6.2"
  }
 },
 "nbformat": 4,
 "nbformat_minor": 1
}
